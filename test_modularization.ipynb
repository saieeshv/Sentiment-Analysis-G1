{
 "cells": [
  {
   "cell_type": "code",
   "execution_count": null,
   "id": "182e4a2d",
   "metadata": {},
   "outputs": [],
   "source": [
    "%load_ext autoreload\n",
    "%autoreload 2"
   ]
  },
  {
   "cell_type": "code",
   "execution_count": null,
   "id": "2dc8faf8",
   "metadata": {},
   "outputs": [],
   "source": [
    "!pip install python-dotenv"
   ]
  },
  {
   "cell_type": "code",
   "execution_count": null,
   "id": "83561c69",
   "metadata": {
    "scrolled": true
   },
   "outputs": [],
   "source": [
    "!pip install praw"
   ]
  },
  {
   "cell_type": "code",
   "execution_count": null,
   "id": "0bccf8d2",
   "metadata": {},
   "outputs": [],
   "source": [
    "!pip install --upgrade newsapi-python"
   ]
  },
  {
   "cell_type": "code",
   "execution_count": null,
   "id": "860f5940",
   "metadata": {},
   "outputs": [],
   "source": [
    "!pip install newspaper3k"
   ]
  },
  {
   "cell_type": "code",
   "execution_count": null,
   "id": "89fc16d2",
   "metadata": {},
   "outputs": [],
   "source": [
    "!pip install lxml_html_clean"
   ]
  },
  {
   "cell_type": "markdown",
   "id": "8cabf31d",
   "metadata": {},
   "source": [
    "This code defines a Config class that loads API keys and settings from environment variables for a financial sentiment analysis project. You can customize several variables to fit your needs: \n",
    "\n",
    "1. Change the list of stock tickers to analyze (DEFAULT_TICKERS), \n",
    "2. Select which Reddit subreddits to monitor and how many posts to fetch (REDDIT_SUBREDDITS, REDDIT_POST_LIMIT), \n",
    "3. Choose which news sources and keywords to track (NEWS_SOURCES, NEWS_KEYWORDS), \n",
    "4. Adjust the time windows for collecting news and Reddit data (DEFAULT_NEWS_DAYS_BACK, DEFAULT_REDDIT_TIME_FILTER, BREAKING_NEWS_HOURS, RECENT_REDDIT_HOURS, MAX_DAYS_BACK). \n",
    "\n",
    "The class also includes a method to check that all required API keys are present. Be sure to edit these variables according to your preferences so the project collects the most relevant data for your analysis, while keeping all configuration details organized and secure."
   ]
  },
  {
   "cell_type": "code",
   "execution_count": null,
   "id": "943f7424",
   "metadata": {},
   "outputs": [],
   "source": [
    "import os\n",
    "from datetime import datetime, timedelta\n",
    "from dotenv import load_dotenv\n",
    "\n",
    "# Load environment variables\n",
    "load_dotenv()\n",
    "\n",
    "class Config:\n",
    "    # API Keys\n",
    "    NEWSAPI_KEY = os.getenv('NEWSAPI_KEY')\n",
    "    REDDIT_CLIENT_ID = os.getenv('REDDIT_CLIENT_ID')\n",
    "    REDDIT_CLIENT_SECRET = os.getenv('REDDIT_CLIENT_SECRET')\n",
    "    REDDIT_USER_AGENT = os.getenv('REDDIT_USER_AGENT', 'FinancialSentimentBot/1.0')\n",
    "    EVENTREGISTRY_KEY = os.getenv('EVENT_REGISTRY_API_KEY')\n",
    "    \n",
    "    # Stock tickers to analyze\n",
    "    DEFAULT_TICKERS = ['AAPL', 'GOOGL', 'MSFT', 'TSLA', 'AMZN', 'NVDA', 'META', 'NFLX']\n",
    "    \n",
    "    # Reddit settings\n",
    "    REDDIT_SUBREDDITS = ['GrowthStocks', 'investing', 'stocks', 'SecurityAnalysis', 'wallstreetbets']\n",
    "    REDDIT_POST_LIMIT = 50\n",
    "    \n",
    "    # News settings\n",
    "    NEWS_SOURCES = ['reuters', 'bloomberg', 'cnbc', 'marketwatch']\n",
    "    NEWS_KEYWORDS = ['stock market', 'earnings', 'financial news']\n",
    "    \n",
    "    # Timeline settings\n",
    "    DEFAULT_NEWS_DAYS_BACK = 1\n",
    "    DEFAULT_REDDIT_TIME_FILTER = 'day'  # 'hour', 'day', 'week', 'month', 'year', 'all'\n",
    "    \n",
    "    # Breaking news settings (very recent)\n",
    "    BREAKING_NEWS_HOURS = 6\n",
    "    RECENT_REDDIT_HOURS = 12\n",
    "    \n",
    "    # Historical analysis\n",
    "    MAX_DAYS_BACK = 30  # NewsAPI free plan limit\n",
    "    \n",
    "    @staticmethod\n",
    "    def validate_config():\n",
    "        \"\"\"Check if all required API keys are set\"\"\"\n",
    "        missing = []\n",
    "        if not Config.NEWSAPI_KEY:\n",
    "            missing.append('NEWSAPI_KEY')\n",
    "        if not Config.REDDIT_CLIENT_ID:\n",
    "            missing.append('REDDIT_CLIENT_ID')\n",
    "        if not Config.REDDIT_CLIENT_SECRET:\n",
    "            missing.append('REDDIT_CLIENT_SECRET')\n",
    "        \n",
    "        if missing:\n",
    "            raise ValueError(f\"Missing required environment variables: {', '.join(missing)}\")\n",
    "        \n",
    "        return True\n"
   ]
  },
  {
   "cell_type": "code",
   "execution_count": null,
   "id": "3e1dce9b",
   "metadata": {},
   "outputs": [],
   "source": [
    "import main"
   ]
  },
  {
   "cell_type": "code",
   "execution_count": null,
   "id": "a3d70d4e",
   "metadata": {},
   "outputs": [],
   "source": [
    "%run main.py"
   ]
  },
  {
   "cell_type": "code",
   "execution_count": null,
   "id": "38e5614a",
   "metadata": {},
   "outputs": [],
   "source": []
  }
 ],
 "metadata": {
  "kernelspec": {
   "display_name": "Python 3 (ipykernel)",
   "language": "python",
   "name": "python3"
  },
  "language_info": {
   "codemirror_mode": {
    "name": "ipython",
    "version": 3
   },
   "file_extension": ".py",
   "mimetype": "text/x-python",
   "name": "python",
   "nbconvert_exporter": "python",
   "pygments_lexer": "ipython3",
   "version": "3.9.12"
  }
 },
 "nbformat": 4,
 "nbformat_minor": 5
}
