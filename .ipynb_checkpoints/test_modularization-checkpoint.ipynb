{
 "cells": [
  {
   "cell_type": "code",
   "execution_count": 1,
   "id": "182e4a2d",
   "metadata": {},
   "outputs": [],
   "source": [
    "%load_ext autoreload\n",
    "%autoreload 2"
   ]
  },
  {
   "cell_type": "code",
   "execution_count": 2,
   "id": "2dc8faf8",
   "metadata": {},
   "outputs": [
    {
     "name": "stdout",
     "output_type": "stream",
     "text": [
      "Requirement already satisfied: python-dotenv in c:\\users\\user\\anaconda3\\lib\\site-packages (1.1.1)\n"
     ]
    }
   ],
   "source": [
    "!pip install python-dotenv"
   ]
  },
  {
   "cell_type": "code",
   "execution_count": 3,
   "id": "83561c69",
   "metadata": {
    "scrolled": true
   },
   "outputs": [
    {
     "name": "stdout",
     "output_type": "stream",
     "text": [
      "Requirement already satisfied: praw in c:\\users\\user\\anaconda3\\lib\\site-packages (7.8.1)\n",
      "Requirement already satisfied: update_checker>=0.18 in c:\\users\\user\\anaconda3\\lib\\site-packages (from praw) (0.18.0)\n",
      "Requirement already satisfied: websocket-client>=0.54.0 in c:\\users\\user\\anaconda3\\lib\\site-packages (from praw) (0.58.0)\n",
      "Requirement already satisfied: prawcore<3,>=2.4 in c:\\users\\user\\anaconda3\\lib\\site-packages (from praw) (2.4.0)\n",
      "Requirement already satisfied: requests<3.0,>=2.6.0 in c:\\users\\user\\anaconda3\\lib\\site-packages (from prawcore<3,>=2.4->praw) (2.32.3)\n",
      "Requirement already satisfied: charset-normalizer<4,>=2 in c:\\users\\user\\anaconda3\\lib\\site-packages (from requests<3.0,>=2.6.0->prawcore<3,>=2.4->praw) (2.0.4)\n",
      "Requirement already satisfied: idna<4,>=2.5 in c:\\users\\user\\anaconda3\\lib\\site-packages (from requests<3.0,>=2.6.0->prawcore<3,>=2.4->praw) (3.3)\n",
      "Requirement already satisfied: urllib3<3,>=1.21.1 in c:\\users\\user\\anaconda3\\lib\\site-packages (from requests<3.0,>=2.6.0->prawcore<3,>=2.4->praw) (1.26.9)\n",
      "Requirement already satisfied: certifi>=2017.4.17 in c:\\users\\user\\anaconda3\\lib\\site-packages (from requests<3.0,>=2.6.0->prawcore<3,>=2.4->praw) (2021.10.8)\n",
      "Requirement already satisfied: six in c:\\users\\user\\anaconda3\\lib\\site-packages (from websocket-client>=0.54.0->praw) (1.16.0)\n"
     ]
    }
   ],
   "source": [
    "!pip install praw"
   ]
  },
  {
   "cell_type": "code",
   "execution_count": 5,
   "id": "3eeca7be",
   "metadata": {},
   "outputs": [],
   "source": [
    "from utils.api_tests import test_apis\n",
    "from data_collectors.collectors import collect_all_data"
   ]
  },
  {
   "cell_type": "code",
   "execution_count": 6,
   "id": "2b5f10b1",
   "metadata": {},
   "outputs": [
    {
     "name": "stdout",
     "output_type": "stream",
     "text": [
      "API connectivity test passed: True\n"
     ]
    }
   ],
   "source": [
    "api_ok = test_apis()\n",
    "print(\"API connectivity test passed:\", api_ok)"
   ]
  },
  {
   "cell_type": "code",
   "execution_count": 7,
   "id": "b05f760d",
   "metadata": {},
   "outputs": [
    {
     "name": "stderr",
     "output_type": "stream",
     "text": [
      "$AAPL: possibly delisted; No price data found  (period=1mo)\n",
      "⚠️  No data for AAPL\n",
      "Failed to get ticker 'GOOGL' reason: Expecting value: line 1 column 1 (char 0)\n",
      "$GOOGL: possibly delisted; No price data found  (period=1mo)\n",
      "⚠️  No data for GOOGL\n",
      "Failed to get ticker 'MSFT' reason: Expecting value: line 1 column 1 (char 0)\n",
      "$MSFT: possibly delisted; No price data found  (period=1mo)\n",
      "⚠️  No data for MSFT\n",
      "Failed to get ticker 'TSLA' reason: Expecting value: line 1 column 1 (char 0)\n",
      "$TSLA: possibly delisted; No price data found  (period=1mo)\n",
      "⚠️  No data for TSLA\n",
      "Failed to get ticker 'AMZN' reason: Expecting value: line 1 column 1 (char 0)\n",
      "$AMZN: possibly delisted; No price data found  (period=1mo)\n",
      "⚠️  No data for AMZN\n",
      "Failed to get ticker 'NVDA' reason: Expecting value: line 1 column 1 (char 0)\n",
      "$NVDA: possibly delisted; No price data found  (period=1mo)\n",
      "⚠️  No data for NVDA\n",
      "Failed to get ticker 'META' reason: Expecting value: line 1 column 1 (char 0)\n",
      "$META: possibly delisted; No price data found  (period=1mo)\n",
      "⚠️  No data for META\n",
      "Failed to get ticker 'NFLX' reason: Expecting value: line 1 column 1 (char 0)\n",
      "$NFLX: possibly delisted; No price data found  (period=1mo)\n",
      "⚠️  No data for NFLX\n",
      "❌ News error for AAPL: Expecting value: line 1 column 1 (char 0)\n",
      "❌ News error for GOOGL: Expecting value: line 1 column 1 (char 0)\n",
      "❌ News error for MSFT: Expecting value: line 1 column 1 (char 0)\n",
      "❌ News error for TSLA: Expecting value: line 1 column 1 (char 0)\n",
      "❌ News error for AMZN: Expecting value: line 1 column 1 (char 0)\n",
      "❌ News error for NVDA: Expecting value: line 1 column 1 (char 0)\n",
      "❌ News error for META: Expecting value: line 1 column 1 (char 0)\n",
      "❌ News error for NFLX: Expecting value: line 1 column 1 (char 0)\n"
     ]
    }
   ],
   "source": [
    "collect_all_data()"
   ]
  },
  {
   "cell_type": "code",
   "execution_count": null,
   "id": "a78561c8",
   "metadata": {},
   "outputs": [],
   "source": [
    "# import pandas as pd\n",
    "# reddit_posts = pd.read_csv(\"data/reddit_posts_20250917_231400.csv\")\n",
    "# reddit_posts.head()"
   ]
  }
 ],
 "metadata": {
  "kernelspec": {
   "display_name": "Python 3 (ipykernel)",
   "language": "python",
   "name": "python3"
  },
  "language_info": {
   "codemirror_mode": {
    "name": "ipython",
    "version": 3
   },
   "file_extension": ".py",
   "mimetype": "text/x-python",
   "name": "python",
   "nbconvert_exporter": "python",
   "pygments_lexer": "ipython3",
   "version": "3.9.12"
  }
 },
 "nbformat": 4,
 "nbformat_minor": 5
}
